{
 "cells": [
  {
   "cell_type": "code",
   "execution_count": 1,
   "id": "84dd712f-3656-49e1-a56a-4751b7defe86",
   "metadata": {},
   "outputs": [],
   "source": [
    "from spatial_statistics_tools3D import *\n",
    "from process_images3D import *\n",
    "from two_sample_testing import *\n",
    "from utilities import *"
   ]
  },
  {
   "cell_type": "code",
   "execution_count": 4,
   "id": "58e21b10-e4c4-49c0-b096-27b419f9212a",
   "metadata": {},
   "outputs": [
    {
     "data": {
      "text/plain": [
       "['.DS_Store',\n",
       " 'check_plots',\n",
       " 'U373-SA-HB-SCC-8B5_Snap-JF503_Halo-SiR-01_czi_#01_channel1_cell_mask3D.npy',\n",
       " 'U373-SA-HB-SCC-8B5_Snap-JF503_Halo-SiR-01_czi_#02_channel1_cell_mask3D.npy',\n",
       " 'U373-SA-HB-SCC-8B5_Snap-JF503_Halo-SiR-01_czi_#03_channel1_cell_mask3D.npy',\n",
       " 'U373-SA-HB-SCC-8B5_Snap-JF503_Halo-SiR-01_czi_#04_channel1_cell_mask3D.npy',\n",
       " 'U373-SA-HB-SCC-8B5_Snap-JF503_Halo-SiR-01_czi_#05_channel1_cell_mask3D.npy',\n",
       " 'U373-SA-HB-SCC-8B5_Snap-JF503_Halo-SiR-01_czi_#06_channel1_cell_mask3D.npy']"
      ]
     },
     "execution_count": 4,
     "metadata": {},
     "output_type": "execute_result"
    }
   ],
   "source": [
    "temp_folder = \"/Volumes/Seagate Exp/hci_project/temp/cell_mask3D\"\n",
    "os.listdir(temp_folder)"
   ]
  },
  {
   "cell_type": "code",
   "execution_count": 8,
   "id": "4e5721ef-a910-482d-bd57-3e5788c4beaf",
   "metadata": {},
   "outputs": [],
   "source": [
    "filepath = os.path.join(temp_folder, \"U373-SA-HB-SCC-8B5_Snap-JF503_Halo-SiR-01_czi_#05_channel1_cell_mask3D.npy\")\n",
    "img = np.load(filepath)"
   ]
  },
  {
   "cell_type": "code",
   "execution_count": 12,
   "id": "fc050714-fcb3-4a80-b15a-e7066fd23d64",
   "metadata": {},
   "outputs": [],
   "source": [
    "img2 = cut_away_zeros3D(img)"
   ]
  },
  {
   "cell_type": "code",
   "execution_count": 16,
   "id": "4eebe9f8-cc9b-4898-bf02-70ef8ee1109e",
   "metadata": {},
   "outputs": [],
   "source": [
    "sum_img = np.sum(img, axis=0)"
   ]
  },
  {
   "cell_type": "code",
   "execution_count": 18,
   "id": "336cfbe8-c7f3-439a-a0fe-5928c21a1d67",
   "metadata": {},
   "outputs": [
    {
     "data": {
      "text/plain": [
       "<matplotlib.image.AxesImage at 0x7fad87cbfb10>"
      ]
     },
     "execution_count": 18,
     "metadata": {},
     "output_type": "execute_result"
    },
    {
     "data": {
      "image/png": "[encoded data removed]",
      "text/plain": [
       "<Figure size 432x288 with 1 Axes>"
      ]
     },
     "metadata": {
      "needs_background": "light"
     },
     "output_type": "display_data"
    }
   ],
   "source": [
    "plt.imshow(sum_img)"
   ]
  },
  {
   "cell_type": "code",
   "execution_count": 11,
   "id": "817466c2-b371-49cb-927a-7b87b732a4d0",
   "metadata": {},
   "outputs": [],
   "source": []
  },
  {
   "cell_type": "code",
   "execution_count": 12,
   "id": "efb0f30b-6c13-4fca-afbd-5abac40267cd",
   "metadata": {},
   "outputs": [
    {
     "data": {
      "text/plain": [
       "43.7"
      ]
     },
     "execution_count": 12,
     "metadata": {},
     "output_type": "execute_result"
    }
   ],
   "source": [
    "mem[2]"
   ]
  },
  {
   "cell_type": "code",
   "execution_count": 55,
   "id": "f0b70f0e-1783-4032-b81e-d8578c670628",
   "metadata": {},
   "outputs": [],
   "source": [
    "filepath1 = \"nonsense1\"\n",
    "\n",
    "filepath2 = \"nonsense2\"\n",
    "\n",
    "\n",
    "f = open(\"finished_files.txt\", 'a')\n",
    "f.write(filepath1)\n",
    "f.write(\"\\n\")\n",
    "f.close()"
   ]
  },
  {
   "cell_type": "code",
   "execution_count": 24,
   "id": "5a02da58-fbb8-44db-bcc0-d890b555367a",
   "metadata": {},
   "outputs": [],
   "source": [
    "with open(\"finished_files.txt\", 'r') as f:\n",
    "    text = f.read()"
   ]
  },
  {
   "cell_type": "code",
   "execution_count": 26,
   "id": "12910f56-21b4-4ba2-80de-c5b5bc3e8bb3",
   "metadata": {},
   "outputs": [
    {
     "name": "stdout",
     "output_type": "stream",
     "text": [
      "nonsense2\n",
      "nonsense1\n",
      "\n"
     ]
    }
   ],
   "source": [
    "finished_files = text.split(\"\\n\")\n"
   ]
  },
  {
   "cell_type": "code",
   "execution_count": 27,
   "id": "f16d5aef-f262-4679-b526-7675d695109e",
   "metadata": {},
   "outputs": [],
   "source": [
    "a = []"
   ]
  },
  {
   "cell_type": "code",
   "execution_count": 28,
   "id": "b5e28d94-c6fa-4fca-8db4-62193f64e3e1",
   "metadata": {},
   "outputs": [
    {
     "ename": "IndexError",
     "evalue": "list index out of range",
     "output_type": "error",
     "traceback": [
      "\u001b[0;31m---------------------------------------------------------------------------\u001b[0m",
      "\u001b[0;31mIndexError\u001b[0m                                Traceback (most recent call last)",
      "\u001b[0;32m/var/folders/2w/h8rsx6xs7vj91x38ptknx_cr0000gn/T/ipykernel_59462/3255511435.py\u001b[0m in \u001b[0;36m<module>\u001b[0;34m\u001b[0m\n\u001b[0;32m----> 1\u001b[0;31m \u001b[0ma\u001b[0m\u001b[0;34m[\u001b[0m\u001b[0;34m-\u001b[0m\u001b[0;36m1\u001b[0m\u001b[0;34m]\u001b[0m\u001b[0;34m\u001b[0m\u001b[0;34m\u001b[0m\u001b[0m\n\u001b[0m",
      "\u001b[0;31mIndexError\u001b[0m: list index out of range"
     ]
    }
   ],
   "source": [
    "a[-1]"
   ]
  },
  {
   "cell_type": "code",
   "execution_count": 4,
   "id": "295fd0d3-db22-409f-b8c7-8c706065b138",
   "metadata": {},
   "outputs": [],
   "source": [
    "test = np.ones((3,11,7))\n",
    "test2 = test.astype(np.float64)"
   ]
  },
  {
   "cell_type": "code",
   "execution_count": 8,
   "id": "a360c4c1-ce38-47e4-a896-9562e3ebecc8",
   "metadata": {},
   "outputs": [
    {
     "data": {
      "text/plain": [
       "array([[[1., 1., 1., 1., 1., 1., 1.],\n",
       "        [1., 1., 1., 1., 1., 1., 1.],\n",
       "        [1., 1., 1., 1., 1., 1., 1.],\n",
       "        [1., 1., 1., 1., 1., 1., 1.],\n",
       "        [1., 1., 1., 1., 1., 1., 1.],\n",
       "        [1., 1., 1., 1., 1., 1., 1.],\n",
       "        [1., 1., 1., 1., 1., 1., 1.],\n",
       "        [1., 1., 1., 1., 1., 1., 1.],\n",
       "        [1., 1., 1., 1., 1., 1., 1.],\n",
       "        [1., 1., 1., 1., 1., 1., 1.],\n",
       "        [1., 1., 1., 1., 1., 1., 1.]],\n",
       "\n",
       "       [[1., 1., 1., 1., 1., 1., 1.],\n",
       "        [1., 1., 1., 1., 1., 1., 1.],\n",
       "        [1., 1., 1., 1., 1., 1., 1.],\n",
       "        [1., 1., 1., 1., 1., 1., 1.],\n",
       "        [1., 1., 1., 1., 1., 1., 1.],\n",
       "        [1., 1., 1., 1., 1., 1., 1.],\n",
       "        [1., 1., 1., 1., 1., 1., 1.],\n",
       "        [1., 1., 1., 1., 1., 1., 1.],\n",
       "        [1., 1., 1., 1., 1., 1., 1.],\n",
       "        [1., 1., 1., 1., 1., 1., 1.],\n",
       "        [1., 1., 1., 1., 1., 1., 1.]],\n",
       "\n",
       "       [[1., 1., 1., 1., 1., 1., 1.],\n",
       "        [1., 1., 1., 1., 1., 1., 1.],\n",
       "        [1., 1., 1., 1., 1., 1., 1.],\n",
       "        [1., 1., 1., 1., 1., 1., 1.],\n",
       "        [1., 1., 1., 1., 1., 1., 1.],\n",
       "        [1., 1., 1., 1., 1., 1., 1.],\n",
       "        [1., 1., 1., 1., 1., 1., 1.],\n",
       "        [1., 1., 1., 1., 1., 1., 1.],\n",
       "        [1., 1., 1., 1., 1., 1., 1.],\n",
       "        [1., 1., 1., 1., 1., 1., 1.],\n",
       "        [1., 1., 1., 1., 1., 1., 1.]]])"
      ]
     },
     "execution_count": 8,
     "metadata": {},
     "output_type": "execute_result"
    }
   ],
   "source": [
    "test2"
   ]
  },
  {
   "cell_type": "code",
   "execution_count": 48,
   "id": "8057bdd9-d3d7-438d-a8f6-cad930344da1",
   "metadata": {},
   "outputs": [],
   "source": [
    "def distance_array1D(dim1, dim2):\n",
    "    \"\"\"\n",
    "    Returns 2-dimensional array where the pixel intensities are equal to the distance from the center\n",
    "    of the array in one dimension, given by dim1.\n",
    "    \"\"\"\n",
    "    half_dim_1 = int((dim1-1)/2)\n",
    "    dim_1_range = list(range(1,half_dim_1+1))\n",
    "    line = dim_1_range[::-1] + [0] + dim_1_range \n",
    "\n",
    "    # array where every element is x distance from center\n",
    "    dist_1_2D = np.array([line, ]*dim2)\n",
    "\n",
    "    return dist_1_2D\n",
    "\n",
    "\n",
    "def distance_arr3D(arr, len_x=1, len_y=1, len_z=1, img_name=\"unnamed\", temp_folder=\"temp\", save=False):\n",
    "    \"\"\"\n",
    "    Computes array whose elements are equal to their Euclidean distance from the center.\n",
    "    \"\"\"\n",
    "    # if the distance array was already computed previously, it can be loaded from existing .npy file\n",
    "    # located in temp folder\n",
    "    dist_array_folder = create_folder(\"cutting_ellipsoid3D\", temp_folder, False)\n",
    "    file_path = os.path.join(dist_array_folder, \"distance_array3D.npy\")\n",
    "    if os.path.isfile(file_path):\n",
    "        print(\"Distance array already computed, loading .npy file...\")\n",
    "        dist_3D = np.load(file_path)\n",
    "        return dist_3D\n",
    "    elif save:\n",
    "        print(\"No .npy file for distance array found, computing and saving distance array...\")\n",
    "    \n",
    "    dimz, dimy, dimx = arr.shape\n",
    "\n",
    "    # array should have equal dimensions, dimension should be odd\n",
    "    if is_even(dimx) or is_even(dimy) or is_even(dimz):\n",
    "        print(\"Error! There should be an odd pixel number in all dimensions!\")\n",
    "        return\n",
    "        \n",
    "    # array where every element is x-distance from center\n",
    "    dist_x_2D = distance_array1D(dimx, dimy)\n",
    "    dist_x = np.tile(dist_x_2D, (dimz, 1, 1))\n",
    "    # array where every element is y-distance from center\n",
    "    dist_y_2D = distance_array1D(dimy, dimx).T\n",
    "    dist_y = np.tile(dist_y_2D, (dimz, 1, 1))\n",
    "    \n",
    "    half_dim_z = int(dimz/2) \n",
    "    z_range = list(range(1,half_dim_z+1))\n",
    "    line_z = z_range[::-1] + [0] + z_range \n",
    "    \n",
    "    # array where every element is z distance from center\n",
    "    z_arrays = [np.zeros((dimy,dimx))+z_dist for z_dist in line_z]    \n",
    "    dist_z = np.stack(z_arrays, axis=0)\n",
    "    \n",
    "    # compute array whose elements are equal to their Euclidean distance from the center\n",
    "    dist_3D = np.sqrt((dist_x*len_x)**2 + (dist_y*len_y)**2 + (dist_z*len_z)**2)\n",
    "\n",
    "    if not (dist_3D.shape == (dimz, dimy, dimx)):\n",
    "        print(\"Error! 3D distance array has wrong shape!\")\n",
    "        return\n",
    "    \n",
    "    # save array to be reused in other computations\n",
    "    if save:\n",
    "        np.save(file_path, dist_3D)\n",
    "    \n",
    "    return dist_3D"
   ]
  },
  {
   "cell_type": "code",
   "execution_count": 57,
   "id": "ea74bbbf-31eb-4ba1-9be1-f196da19e1d6",
   "metadata": {},
   "outputs": [
    {
     "data": {
      "text/plain": [
       "(3, 11, 7)"
      ]
     },
     "execution_count": 57,
     "metadata": {},
     "output_type": "execute_result"
    }
   ],
   "source": [
    "test.shape\n",
    "dist.shape"
   ]
  },
  {
   "cell_type": "code",
   "execution_count": 62,
   "id": "75e87a97-b5eb-4511-9bb4-87c1e41390d4",
   "metadata": {},
   "outputs": [],
   "source": [
    "dist = distance_arr3D(test, len_x = 0.4, len_y = 0.8, len_z = 0.4)"
   ]
  },
  {
   "cell_type": "code",
   "execution_count": 63,
   "id": "af701346-0662-46f0-9208-96ff392c6a1e",
   "metadata": {},
   "outputs": [
    {
     "name": "stdout",
     "output_type": "stream",
     "text": [
      "[[[10.08  8.39  7.18  6.73  7.18  8.39 10.08]\n",
      "  [ 9.35  7.5   6.12  5.59  6.12  7.5   9.35]\n",
      "  [ 8.75  6.73  5.15  4.51  5.15  6.73  8.75]\n",
      "  [ 8.29  6.12  4.33  3.54  4.33  6.12  8.29]\n",
      "  [ 8.    5.73  3.75  2.8   3.75  5.73  8.  ]\n",
      "  [ 7.91  5.59  3.54  2.5   3.54  5.59  7.91]\n",
      "  [ 8.    5.73  3.75  2.8   3.75  5.73  8.  ]\n",
      "  [ 8.29  6.12  4.33  3.54  4.33  6.12  8.29]\n",
      "  [ 8.75  6.73  5.15  4.51  5.15  6.73  8.75]\n",
      "  [ 9.35  7.5   6.12  5.59  6.12  7.5   9.35]\n",
      "  [10.08  8.39  7.18  6.73  7.18  8.39 10.08]]\n",
      "\n",
      " [[ 9.76  8.    6.73  6.25  6.73  8.    9.76]\n",
      "  [ 9.01  7.07  5.59  5.    5.59  7.07  9.01]\n",
      "  [ 8.39  6.25  4.51  3.75  4.51  6.25  8.39]\n",
      "  [ 7.91  5.59  3.54  2.5   3.54  5.59  7.91]\n",
      "  [ 7.6   5.15  2.8   1.25  2.8   5.15  7.6 ]\n",
      "  [ 7.5   5.    2.5   0.    2.5   5.    7.5 ]\n",
      "  [ 7.6   5.15  2.8   1.25  2.8   5.15  7.6 ]\n",
      "  [ 7.91  5.59  3.54  2.5   3.54  5.59  7.91]\n",
      "  [ 8.39  6.25  4.51  3.75  4.51  6.25  8.39]\n",
      "  [ 9.01  7.07  5.59  5.    5.59  7.07  9.01]\n",
      "  [ 9.76  8.    6.73  6.25  6.73  8.    9.76]]\n",
      "\n",
      " [[10.08  8.39  7.18  6.73  7.18  8.39 10.08]\n",
      "  [ 9.35  7.5   6.12  5.59  6.12  7.5   9.35]\n",
      "  [ 8.75  6.73  5.15  4.51  5.15  6.73  8.75]\n",
      "  [ 8.29  6.12  4.33  3.54  4.33  6.12  8.29]\n",
      "  [ 8.    5.73  3.75  2.8   3.75  5.73  8.  ]\n",
      "  [ 7.91  5.59  3.54  2.5   3.54  5.59  7.91]\n",
      "  [ 8.    5.73  3.75  2.8   3.75  5.73  8.  ]\n",
      "  [ 8.29  6.12  4.33  3.54  4.33  6.12  8.29]\n",
      "  [ 8.75  6.73  5.15  4.51  5.15  6.73  8.75]\n",
      "  [ 9.35  7.5   6.12  5.59  6.12  7.5   9.35]\n",
      "  [10.08  8.39  7.18  6.73  7.18  8.39 10.08]]]\n"
     ]
    }
   ],
   "source": [
    "print(np.round(dist,2))"
   ]
  },
  {
   "cell_type": "code",
   "execution_count": 54,
   "id": "6f670eea-2907-4832-97ae-06ad972ad9e7",
   "metadata": {},
   "outputs": [
    {
     "data": {
      "image/png": "[encoded data removed]",
      "text/plain": [
       "<Figure size 432x288 with 1 Axes>"
      ]
     },
     "metadata": {
      "needs_background": "light"
     },
     "output_type": "display_data"
    },
    {
     "data": {
      "image/png": "[encoded data removed]",
      "text/plain": [
       "<Figure size 432x288 with 1 Axes>"
      ]
     },
     "metadata": {
      "needs_background": "light"
     },
     "output_type": "display_data"
    },
    {
     "data": {
      "image/png": "[encoded data removed]",
      "text/plain": [
       "<Figure size 432x288 with 1 Axes>"
      ]
     },
     "metadata": {
      "needs_background": "light"
     },
     "output_type": "display_data"
    }
   ],
   "source": [
    "for i in range(3):\n",
    "    plt.imshow(dist[i])\n",
    "    plt.show()"
   ]
  },
  {
   "cell_type": "code",
   "execution_count": 18,
   "id": "83d76f4e-7f2c-481b-926c-309f295f6a91",
   "metadata": {},
   "outputs": [],
   "source": [
    "import numpy as np\n",
    "from time import time\n",
    "from utilities import *"
   ]
  },
  {
   "cell_type": "code",
   "execution_count": 14,
   "id": "962ec193-0042-4a86-b272-6fbec8d8cef4",
   "metadata": {},
   "outputs": [],
   "source": [
    "test = np.random.rand(95, 2100, 2200)"
   ]
  },
  {
   "cell_type": "code",
   "execution_count": 20,
   "id": "b898df60-accd-4d5d-bc3c-fc212181026d",
   "metadata": {},
   "outputs": [
    {
     "name": "stdout",
     "output_type": "stream",
     "text": [
      "done in 134.81\n",
      "done in 0.01\n"
     ]
    }
   ],
   "source": [
    "# save\n",
    "t0 = time()\n",
    "np.savez_compressed(\"test.npz\", test)\n",
    "t1 = time()\n",
    "print(f\"done in {t1-t0:.2f}\")\n",
    "\n",
    "\n",
    "# load\n",
    "t0 = time()\n",
    "np.load(\"test.npz\")\n",
    "t1 = time()\n",
    "print(f\"done in {t1-t0:.2f}\")"
   ]
  },
  {
   "cell_type": "code",
   "execution_count": 20,
   "id": "a24bfe51-a2cb-42bc-a825-b443912735b9",
   "metadata": {},
   "outputs": [
    {
     "name": "stdout",
     "output_type": "stream",
     "text": [
      "test2\n"
     ]
    }
   ],
   "source": [
    "print(\"test1\", end=\"\\r\")\n",
    "print(\"test2\")"
   ]
  },
  {
   "cell_type": "code",
   "execution_count": 23,
   "id": "affe45cb-560e-492e-936a-69948fa4957a",
   "metadata": {},
   "outputs": [
    {
     "name": "stdout",
     "output_type": "stream",
     "text": [
      "Progress: 100.00%, t=91\n",
      "Done!\n"
     ]
    }
   ],
   "source": [
    "import time\n",
    "\n",
    "range_of_t=np.arange(1, 100, 10)\n",
    "\n",
    "count=0\n",
    "for t in range_of_t:\n",
    "    time.sleep(1)\n",
    "    count+=1\n",
    "    prog = count/len(range_of_t)*100\n",
    "    if prog<100:\n",
    "        print(f\"Progress: {prog:.2f}%, t={t}\", end=\"\\r\")\n",
    "    else:\n",
    "        print(f\"Progress: {prog:.2f}%, t={t}\")\n",
    "print(\"Done!\")"
   ]
  },
  {
   "cell_type": "code",
   "execution_count": null,
   "id": "fb0bda0e-705e-4ee7-b822-21dae6527396",
   "metadata": {},
   "outputs": [],
   "source": []
  }
 ],
 "metadata": {
  "kernelspec": {
   "display_name": "Python 3 (ipykernel)",
   "language": "python",
   "name": "python3"
  },
  "language_info": {
   "codemirror_mode": {
    "name": "ipython",
    "version": 3
   },
   "file_extension": ".py",
   "mimetype": "text/x-python",
   "name": "python",
   "nbconvert_exporter": "python",
   "pygments_lexer": "ipython3",
   "version": "3.7.10"
  }
 },
 "nbformat": 4,
 "nbformat_minor": 5
}
